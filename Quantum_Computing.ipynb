{
  "nbformat": 4,
  "nbformat_minor": 0,
  "metadata": {
    "colab": {
      "name": "Quantum Computing",
      "version": "0.3.2",
      "provenance": [],
      "collapsed_sections": [],
      "include_colab_link": true
    },
    "kernelspec": {
      "name": "python3",
      "display_name": "Python 3"
    }
  },
  "cells": [
    {
      "cell_type": "markdown",
      "metadata": {
        "id": "view-in-github",
        "colab_type": "text"
      },
      "source": [
        "<a href=\"https://colab.research.google.com/github/aahadley/EEL-4768-Study-Material/blob/master/Quantum_Computing.ipynb\" target=\"_parent\"><img src=\"https://colab.research.google.com/assets/colab-badge.svg\" alt=\"Open In Colab\"/></a>"
      ]
    },
    {
      "metadata": {
        "id": "HPC3ZAYKxaek",
        "colab_type": "text"
      },
      "cell_type": "markdown",
      "source": [
        "**Aaron Hadley**  \n",
        "*Notes from COT 5600 Quantum Computing  \n",
        "Spring 2019  \n",
        "Instructor: Pawel Wocjan  \n",
        "University of Central Florida*\n",
        "\n",
        "\n",
        "If you're viewing this on github, the LaTeX formatting will be wrong Open in colab instead."
      ]
    },
    {
      "metadata": {
        "id": "jmA2HmaGe3G4",
        "colab_type": "text"
      },
      "cell_type": "markdown",
      "source": [
        "#Complex numbers\n",
        "\n",
        "Let $a, b \\epsilon \\mathbb{R}$.\n",
        "\n",
        "A complex number $z \\epsilon \\mathbb{C}$ can be written as \n",
        "\n",
        "$$z = a + bi.$$ \n",
        "\n",
        "and its conjugate,  \n",
        "\n",
        "$$\\bar{z} = a - bi.$$\n",
        "\n",
        "The absolute value is $$|z| = \\sqrt{z\\bar{z}} = \\sqrt{a^2 + b^2}.$$"
      ]
    },
    {
      "metadata": {
        "id": "T-VUZnWt4PxZ",
        "colab_type": "text"
      },
      "cell_type": "markdown",
      "source": [
        "##Complex Numbers in Python"
      ]
    },
    {
      "metadata": {
        "id": "eVb6o9_BiHbI",
        "colab_type": "code",
        "outputId": "8a790188-3909-4239-da91-e39f56988e59",
        "colab": {
          "base_uri": "https://localhost:8080/",
          "height": 182
        }
      },
      "cell_type": "code",
      "source": [
        "import numpy as np\n",
        "\n",
        "# using Python, we can denote an imaginary number by adding a j to the end of \n",
        "# the number.The functions real() and imag() included in numpy will return the \n",
        "# real and imaginary parts, respectively, of a complex number.\n",
        "\n",
        "z = 2 + 4j\n",
        "\n",
        "z_real = np.real(z)\n",
        "z_imag = np.imag(z)\n",
        "\n",
        "print(\"real component = \", z_real)\n",
        "print(\"imaginary component = \", z_imag)\n",
        "\n",
        "\n",
        "# conj() will return the complex conjugate of a complex number.\n",
        "conjugate = np.conjugate(z)\n",
        "\n",
        "# So to get the norm of a complex number...\n",
        "norm = np.sqrt(z * np.conjugate(z))\n",
        "\n",
        "print(\"conjugagte = \", conjugate)\n",
        "print(\"norm = \", norm)\n",
        "\n",
        "# or...\n",
        "norm = np.sqrt(z_real**2 + z_imag**2)\n",
        "print(\"norm = \", norm)\n",
        "\n",
        "\n",
        "#------------------------------------------------------------------------------#\n",
        "print(\"\\n\\n\")\n",
        "\n",
        "\n",
        "# EXERCISE\n",
        "#\n",
        "# Now we will verify using python that 1/√2 + (1/√2)j is a unit complex number.\n",
        "\n",
        "z = 1/np.sqrt(2) + 1j/np.sqrt(2)\n",
        "\n",
        "norm = np.real(np.sqrt(z * np.conjugate(z)))\n",
        "print(\"||z|| =\", norm)\n"
      ],
      "execution_count": 0,
      "outputs": [
        {
          "output_type": "stream",
          "text": [
            "real component =  2.0\n",
            "imaginary component =  4.0\n",
            "conjugagte =  (2-4j)\n",
            "norm =  (4.47213595499958+0j)\n",
            "norm =  4.47213595499958\n",
            "\n",
            "\n",
            "\n",
            "||z|| = 0.9999999999999999\n"
          ],
          "name": "stdout"
        }
      ]
    },
    {
      "metadata": {
        "id": "KKsl4T_G3X53",
        "colab_type": "text"
      },
      "cell_type": "markdown",
      "source": [
        "##Euler's Formula\n",
        "\n",
        "$$e^{i\\theta} = \\cos(\\theta) + i\\sin(\\theta).$$\n",
        "\n",
        "*//TODO\n",
        "write out derivation for Euler's formula*"
      ]
    },
    {
      "metadata": {
        "id": "ZtUJcqSS34L9",
        "colab_type": "text"
      },
      "cell_type": "markdown",
      "source": [
        "#Vector Spaces\n",
        "Vector spaces wont be formally defined here, but informally, a vector space is a set of elements called *vectors*, that is closed under the operations of vector addition and scalar multiplication."
      ]
    },
    {
      "metadata": {
        "id": "Y0WnziGDfOur",
        "colab_type": "text"
      },
      "cell_type": "markdown",
      "source": [
        "  ## Complex Vector Spaces\n",
        "  Every complex vector space of $dim(d)$ is isomorphic to $\\mathbb{C^d}$. We can represent elements in $\\mathbb{C^d}$ with column vectors. In dirac notation, vectors in a vector space are called kets and denoted by $|v\\rangle$. \\\\"
      ]
    },
    {
      "metadata": {
        "id": "anlo1sWFcLMM",
        "colab_type": "text"
      },
      "cell_type": "markdown",
      "source": [
        "##Dirac Notation(bra-ket notation)\n",
        "\n",
        "Let $v\\epsilon \\mathbb{C^d}, z_i \\epsilon \\mathbb{C}$\n",
        "  \n",
        "  $$ \\vec v = \n",
        "  (z_1, z_2, ..., z_n) \n",
        "  = \\begin{bmatrix} z_1 \\\\ z_2 \\\\ ... \\\\ z_n \\end{bmatrix} = |v\\rangle.$$\n",
        "  \n",
        "Most commonly, we will deal with vetors in $\\mathbb{C^{2^n}}.$ Basis vectors in $\\mathbb{C^{2^n}}$ are labelled with bitstrings of length $n$.  \\\\\n",
        "\n",
        "  $$|00...00\\rangle = \\begin{bmatrix}1 \\\\ 0 \\\\ 0 \\\\ ... \\\\ 0 \\\\ 0 \\end{bmatrix}$$ \\\\\n",
        " \n",
        " $$|00 ... 01\\rangle = \\begin{bmatrix}0 \\\\ 1 \\\\ 0 \\\\ ... \\\\ 0 \\\\ 0 \\end{bmatrix}$$ \\\\\n",
        "  \n",
        "  $$|00...10\\rangle = \\begin{bmatrix}0 \\\\ 0 \\\\ 1 \\\\ ... \\\\ 0 \\\\ 0 \\end{bmatrix}$$ \\\\\n",
        "  \n",
        "  $$...$$ \\\\\n",
        "  \n",
        "   $$|11...11\\rangle = \\begin{bmatrix}0 \\\\ 0 \\\\ 0 \\\\ ... \\\\ 0 \\\\ 1 \\end{bmatrix}$$ \\\\\n",
        "  \n",
        "  It may be helpful to think of the vector as a zero-indexed array, and the number inside each ket determines the index of the \"$1$\".\n",
        "  \n",
        "  ### Example\n",
        "  \n",
        "  The vector\n",
        "  \n",
        "  $$ \\sqrt{\\frac{2}{3}}|01\\rangle + \\frac{i}{\\sqrt{3}}|11\\rangle = \\sqrt{\\frac{2}{3}} \\begin{bmatrix} 0 \\\\ 1 \\\\0 \\\\ 0 \\end{bmatrix} + \\frac{i}{\\sqrt{3}} \\begin{bmatrix} 0 \\\\ 0 \\\\0 \\\\ 1 \\end{bmatrix} = \\begin{bmatrix} 0 \\\\ \\sqrt{\\frac{2}{3}} \\\\ 0 \\\\\\frac{i}{\\sqrt{3}}\\end{bmatrix}. $$"
      ]
    },
    {
      "metadata": {
        "id": "Gpr76eS8iVmz",
        "colab_type": "code",
        "outputId": "b68ac024-23a8-44fb-ed30-2ffbd8749097",
        "colab": {
          "base_uri": "https://localhost:8080/",
          "height": 164
        }
      },
      "cell_type": "code",
      "source": [
        "import numpy as np\n",
        "\n",
        "\n",
        "# When working with vectors in numpy, we use the array class.\n",
        "v = np.array([0, 1, 0, 0])\n",
        "\n",
        "print(\"v = \", v)\n",
        "\n",
        "# then we can index v just like any array.\n",
        "print(\"v[1] = \", v[1])\n",
        "\n",
        "for i in v:\n",
        "    print(2*i)\n",
        "\n",
        "# Scalar multiplication is supported\n",
        "print(\"3v = \", 3 * v)\n",
        "\n",
        "# as is vector addition\n",
        "w = np.array([1, 1, 0, 3])\n",
        "print(\"v + w = \", v + w)\n"
      ],
      "execution_count": 0,
      "outputs": [
        {
          "output_type": "stream",
          "text": [
            "v =  [0 1 0 0]\n",
            "v[1] =  1\n",
            "0\n",
            "2\n",
            "0\n",
            "0\n",
            "3v =  [0 3 0 0]\n",
            "v + w =  [1 2 0 3]\n"
          ],
          "name": "stdout"
        }
      ]
    },
    {
      "metadata": {
        "id": "f_awRZUTnb0b",
        "colab_type": "text"
      },
      "cell_type": "markdown",
      "source": [
        "##Inner Products\n",
        "\n",
        "An inner product on a Hilbert space $\\mathcal{H}$ is a function that has the following properties:\n",
        "\n",
        "- Linearity in the second argument\n",
        "$$ \\langle v, \\sum_i{\\lambda_iw_i}\\rangle  = \\sum_i{\\lambda_i \\langle v, w_i \\rangle}$$\n",
        "\n",
        "- Conjugate-Commutativity\n",
        "$$ \\langle v, w \\rangle = \\langle w, v \\rangle^*$$\n",
        "\n",
        "- Non-negativity\n",
        "$$\\langle v, v \\rangle \\leq 0$$ with equality iff $v = 0$\n",
        "\n",
        "In dirac notation, the inner product of $v$ and $w$ is written $\\langle v | w \\rangle$.\n",
        "\n",
        "#### Dot Product\n",
        "The dot product is an example of an inner product.  \n",
        "\n",
        "$$v \\cdot w := \n",
        "\\begin{bmatrix} \n",
        "v_1  \\\\ v_2 \\\\ ... \\\\ v_n \n",
        "\\end{bmatrix} \\cdot\n",
        "\\begin{bmatrix} \n",
        "w_1 \\\\ w_2 \\\\ ... \\\\ w_n \n",
        "\\end{bmatrix} =\n",
        "\\begin{bmatrix}\n",
        "v_1^* & v_2^* & ... & v_d^*\n",
        "\\end{bmatrix} \n",
        "\\begin{bmatrix} w_1 \\\\ w_2 \\\\ ... \\\\ w_d \\end{bmatrix} = \\sum_{i=1}^d{v_i^*w_i}.\n",
        "$$"
      ]
    },
    {
      "metadata": {
        "id": "pPPoZhY_q8jy",
        "colab_type": "text"
      },
      "cell_type": "markdown",
      "source": [
        "## Some Definitions\n",
        "\n",
        "### Orthogonality\n",
        "Two vectors$ |x\\rangle$ and $|\\psi \\rangle$ are orthogonal if and only if $\\langle x | \\psi \\rangle = 0.$\n",
        "\n",
        "### Normality\n",
        "The norm of a vector $| \\psi \\rangle$, denoted $|| | \\psi \\rangle||$ is the sqaure root of the inner product with itself.  \n",
        "$$|| | \\psi \\rangle|| = \\sqrt{\\langle \\psi | \\psi \\rangle}$$ This is also called the Euclidean norm or $l_2$ norm.  \n",
        "\n",
        "A **unit vector** is a vector that has norm 1.  \n",
        "\n",
        "A set of mutually orthogonal unit vectors is called an **orthonormal** set."
      ]
    },
    {
      "metadata": {
        "id": "ltHfVF26zdKi",
        "colab_type": "text"
      },
      "cell_type": "markdown",
      "source": [
        "### Orthonormal Bases\n",
        "Let $\\mathcal{H}$ be a Hilbert space of dimension d.  \n",
        "\n",
        "A set of d vectors $B = {|b_i \\rangle } \\subseteq \\mathcal{H} $ is called an orthonormal basis for $\\mathcal{H}$ if  \n",
        "$$\\forall{i,j} = 1, 2, ..., d$$\n",
        "$$\\langle b_i | b_j \\rangle = \\delta_{i,j}$$  \n",
        "\n",
        "and every $|\\psi \\rangle \\epsilon \\mathcal{H}$ can be written as \n",
        "$$ | \\psi \\rangle = \\sum_{i=1}^d{\\alpha_i |b_i \\rangle} $$ for some $\\alpha_i \\epsilon \\mathbb{C}$\n",
        "\n",
        "#### Orthonormal Basis for $\\mathcal{H}^*$\n",
        "Let $\\{|b_i \\rangle\\}$ be an   orthonormal basis for $\\mathcal{H}$. Then $\\{ \\langle b_i | \\}$ is an orthonormal basis for $\\mathcal{H^*}$"
      ]
    },
    {
      "metadata": {
        "id": "QO4ELjCOqsk2",
        "colab_type": "code",
        "outputId": "7d114a55-ebca-4bc2-da8e-1be67ea1b1ba",
        "colab": {
          "base_uri": "https://localhost:8080/",
          "height": 182
        }
      },
      "cell_type": "code",
      "source": [
        "import numpy as np\n",
        "import numpy.linalg as la\n",
        "\n",
        "# dot products\n",
        "v1 = np.array([1, 2, 3])\n",
        "v2 = np.array([2, 0, 4])\n",
        "\n",
        "print(\"v1 ⋅ v2 =\", np.dot(v1, v2))\n",
        "print()\n",
        "\n",
        "# norm\n",
        "norm = la.norm(v1)\n",
        "print(\"||v1|| =\", norm)\n",
        "print()\n",
        "\n",
        "# EXERCISE\n",
        "#\n",
        "# confirm that {(i, 0), (0, i)} form an orthonormal basis on Cd\n",
        "\n",
        "b1 = np.array([1, 0])\n",
        "b2 = np.array([0, 1])\n",
        "dot = np.dot(b1, b2)\n",
        "\n",
        "print(\"||b1|| =\", la.norm(b1))\n",
        "print(\"||b2|| =\", la.norm(b2))\n",
        "print(\"b1 ⋅ b2 =\", dot, \"= 0.\")\n",
        "print()\n",
        "\n",
        "# Express v = (3i, 1/√2) as a linear combination of b1 and b2.\n",
        "\n",
        "v = (0 + 3j) * b1 + (1/np.sqrt(2) + 0j) * b2\n",
        "print(\"v =\", v)\n"
      ],
      "execution_count": 0,
      "outputs": [
        {
          "output_type": "stream",
          "text": [
            "v1 ⋅ v2 = 14\n",
            "\n",
            "||v1|| = 3.7416573867739413\n",
            "\n",
            "||b1|| = 1.0\n",
            "||b2|| = 1.0\n",
            "b1 ⋅ b2 = 0 = 0.\n",
            "\n",
            "v = [0.        +3.j 0.70710678+0.j]\n"
          ],
          "name": "stdout"
        }
      ]
    },
    {
      "metadata": {
        "id": "Krv3pN4S717g",
        "colab_type": "text"
      },
      "cell_type": "markdown",
      "source": [
        "## Linear Operators"
      ]
    }
  ]
}